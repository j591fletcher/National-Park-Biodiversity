{
 "cells": [
  {
   "cell_type": "markdown",
   "metadata": {},
   "source": [
    "# Introduction\n",
    "\n",
    "The goal of this project is to analyze biodiveristy data from some of the US's National Parks.\n",
    "\n",
    "This report will clean, plot, and analyze data to explain the findings of the analysis.\n",
    "\n",
    "\n",
    "Here are the questions this report will answer:\n",
    "1.  Are certain types of species more likely to be endangered than others?\n",
    "2.  What is the distribution of each conservation status?\n",
    "3.  Which species is most prevalent across the parks?\n",
    "\n",
    "**Data sources:**\n",
    "\n",
    "Both `Observations.csv` and `Species_info.csv` was provided by [Codecademy.com](https://www.codecademy.com).\n",
    "\n",
    "Note: The data for this project is *inspired* by real data, but is mostly fictional.\n",
    "\n"
   ]
  },
  {
   "cell_type": "markdown",
   "metadata": {},
   "source": [
    "### Scope\n",
    "\n",
    "**Project Goals**\n",
    "\n",
    "The goal of this project is to analyze data provided by Codecademy.  The National Parks Service wants to know the relationship between species location and their conservation status so they know how to provide for more endangered species to maintain the current level of biodiversity in its parks. \n",
    "\n",
    "**Data**\n",
    "\n",
    "`Observations.csv`\n",
    "- scientific_name\n",
    "- park_name\n",
    "- observations\n",
    "\n",
    "`Species_info.csv`\n",
    "- category\n",
    "- scientific_name\n",
    "- common_names\n",
    "- conservatoin_status"
   ]
  },
  {
   "cell_type": "markdown",
   "metadata": {},
   "source": [
    "#### Importing Python packages"
   ]
  },
  {
   "cell_type": "code",
   "execution_count": 114,
   "metadata": {},
   "outputs": [],
   "source": [
    "import pandas as pd\n",
    "import numpy as np\n",
    "\n",
    "from matplotlib import pyplot as plt\n",
    "import seaborn as sns\n",
    "\n",
    "%matplotlib inline"
   ]
  },
  {
   "cell_type": "markdown",
   "metadata": {},
   "source": [
    "#### Loading the Data"
   ]
  },
  {
   "cell_type": "code",
   "execution_count": 115,
   "metadata": {},
   "outputs": [
    {
     "data": {
      "text/html": [
       "<div>\n",
       "<style scoped>\n",
       "    .dataframe tbody tr th:only-of-type {\n",
       "        vertical-align: middle;\n",
       "    }\n",
       "\n",
       "    .dataframe tbody tr th {\n",
       "        vertical-align: top;\n",
       "    }\n",
       "\n",
       "    .dataframe thead th {\n",
       "        text-align: right;\n",
       "    }\n",
       "</style>\n",
       "<table border=\"1\" class=\"dataframe\">\n",
       "  <thead>\n",
       "    <tr style=\"text-align: right;\">\n",
       "      <th></th>\n",
       "      <th>scientific_name</th>\n",
       "      <th>park_name</th>\n",
       "      <th>observations</th>\n",
       "    </tr>\n",
       "  </thead>\n",
       "  <tbody>\n",
       "    <tr>\n",
       "      <th>0</th>\n",
       "      <td>Vicia benghalensis</td>\n",
       "      <td>Great Smoky Mountains National Park</td>\n",
       "      <td>68</td>\n",
       "    </tr>\n",
       "    <tr>\n",
       "      <th>1</th>\n",
       "      <td>Neovison vison</td>\n",
       "      <td>Great Smoky Mountains National Park</td>\n",
       "      <td>77</td>\n",
       "    </tr>\n",
       "    <tr>\n",
       "      <th>2</th>\n",
       "      <td>Prunus subcordata</td>\n",
       "      <td>Yosemite National Park</td>\n",
       "      <td>138</td>\n",
       "    </tr>\n",
       "    <tr>\n",
       "      <th>3</th>\n",
       "      <td>Abutilon theophrasti</td>\n",
       "      <td>Bryce National Park</td>\n",
       "      <td>84</td>\n",
       "    </tr>\n",
       "    <tr>\n",
       "      <th>4</th>\n",
       "      <td>Githopsis specularioides</td>\n",
       "      <td>Great Smoky Mountains National Park</td>\n",
       "      <td>85</td>\n",
       "    </tr>\n",
       "    <tr>\n",
       "      <th>5</th>\n",
       "      <td>Elymus virginicus var. virginicus</td>\n",
       "      <td>Yosemite National Park</td>\n",
       "      <td>112</td>\n",
       "    </tr>\n",
       "    <tr>\n",
       "      <th>6</th>\n",
       "      <td>Spizella pusilla</td>\n",
       "      <td>Yellowstone National Park</td>\n",
       "      <td>228</td>\n",
       "    </tr>\n",
       "    <tr>\n",
       "      <th>7</th>\n",
       "      <td>Elymus multisetus</td>\n",
       "      <td>Great Smoky Mountains National Park</td>\n",
       "      <td>39</td>\n",
       "    </tr>\n",
       "    <tr>\n",
       "      <th>8</th>\n",
       "      <td>Lysimachia quadrifolia</td>\n",
       "      <td>Yosemite National Park</td>\n",
       "      <td>168</td>\n",
       "    </tr>\n",
       "    <tr>\n",
       "      <th>9</th>\n",
       "      <td>Diphyscium cumberlandianum</td>\n",
       "      <td>Yellowstone National Park</td>\n",
       "      <td>250</td>\n",
       "    </tr>\n",
       "  </tbody>\n",
       "</table>\n",
       "</div>"
      ],
      "text/plain": [
       "                     scientific_name                            park_name  \\\n",
       "0                 Vicia benghalensis  Great Smoky Mountains National Park   \n",
       "1                     Neovison vison  Great Smoky Mountains National Park   \n",
       "2                  Prunus subcordata               Yosemite National Park   \n",
       "3               Abutilon theophrasti                  Bryce National Park   \n",
       "4           Githopsis specularioides  Great Smoky Mountains National Park   \n",
       "5  Elymus virginicus var. virginicus               Yosemite National Park   \n",
       "6                   Spizella pusilla            Yellowstone National Park   \n",
       "7                  Elymus multisetus  Great Smoky Mountains National Park   \n",
       "8             Lysimachia quadrifolia               Yosemite National Park   \n",
       "9         Diphyscium cumberlandianum            Yellowstone National Park   \n",
       "\n",
       "   observations  \n",
       "0            68  \n",
       "1            77  \n",
       "2           138  \n",
       "3            84  \n",
       "4            85  \n",
       "5           112  \n",
       "6           228  \n",
       "7            39  \n",
       "8           168  \n",
       "9           250  "
      ]
     },
     "execution_count": 115,
     "metadata": {},
     "output_type": "execute_result"
    }
   ],
   "source": [
    "#Observations\n",
    "observations = pd.read_csv('observations.csv', encoding='utf-8')\n",
    "\n",
    "observations.head(10)\n"
   ]
  },
  {
   "cell_type": "code",
   "execution_count": 116,
   "metadata": {},
   "outputs": [
    {
     "data": {
      "text/html": [
       "<div>\n",
       "<style scoped>\n",
       "    .dataframe tbody tr th:only-of-type {\n",
       "        vertical-align: middle;\n",
       "    }\n",
       "\n",
       "    .dataframe tbody tr th {\n",
       "        vertical-align: top;\n",
       "    }\n",
       "\n",
       "    .dataframe thead th {\n",
       "        text-align: right;\n",
       "    }\n",
       "</style>\n",
       "<table border=\"1\" class=\"dataframe\">\n",
       "  <thead>\n",
       "    <tr style=\"text-align: right;\">\n",
       "      <th></th>\n",
       "      <th>category</th>\n",
       "      <th>scientific_name</th>\n",
       "      <th>common_names</th>\n",
       "      <th>conservation_status</th>\n",
       "    </tr>\n",
       "  </thead>\n",
       "  <tbody>\n",
       "    <tr>\n",
       "      <th>0</th>\n",
       "      <td>Mammal</td>\n",
       "      <td>Clethrionomys gapperi gapperi</td>\n",
       "      <td>Gapper's Red-Backed Vole</td>\n",
       "      <td>NaN</td>\n",
       "    </tr>\n",
       "    <tr>\n",
       "      <th>1</th>\n",
       "      <td>Mammal</td>\n",
       "      <td>Bos bison</td>\n",
       "      <td>American Bison, Bison</td>\n",
       "      <td>NaN</td>\n",
       "    </tr>\n",
       "    <tr>\n",
       "      <th>2</th>\n",
       "      <td>Mammal</td>\n",
       "      <td>Bos taurus</td>\n",
       "      <td>Aurochs, Aurochs, Domestic Cattle (Feral), Dom...</td>\n",
       "      <td>NaN</td>\n",
       "    </tr>\n",
       "    <tr>\n",
       "      <th>3</th>\n",
       "      <td>Mammal</td>\n",
       "      <td>Ovis aries</td>\n",
       "      <td>Domestic Sheep, Mouflon, Red Sheep, Sheep (Feral)</td>\n",
       "      <td>NaN</td>\n",
       "    </tr>\n",
       "    <tr>\n",
       "      <th>4</th>\n",
       "      <td>Mammal</td>\n",
       "      <td>Cervus elaphus</td>\n",
       "      <td>Wapiti Or Elk</td>\n",
       "      <td>NaN</td>\n",
       "    </tr>\n",
       "    <tr>\n",
       "      <th>5</th>\n",
       "      <td>Mammal</td>\n",
       "      <td>Odocoileus virginianus</td>\n",
       "      <td>White-Tailed Deer</td>\n",
       "      <td>NaN</td>\n",
       "    </tr>\n",
       "    <tr>\n",
       "      <th>6</th>\n",
       "      <td>Mammal</td>\n",
       "      <td>Sus scrofa</td>\n",
       "      <td>Feral Hog, Wild Pig</td>\n",
       "      <td>NaN</td>\n",
       "    </tr>\n",
       "    <tr>\n",
       "      <th>7</th>\n",
       "      <td>Mammal</td>\n",
       "      <td>Canis latrans</td>\n",
       "      <td>Coyote</td>\n",
       "      <td>Species of Concern</td>\n",
       "    </tr>\n",
       "    <tr>\n",
       "      <th>8</th>\n",
       "      <td>Mammal</td>\n",
       "      <td>Canis lupus</td>\n",
       "      <td>Gray Wolf</td>\n",
       "      <td>Endangered</td>\n",
       "    </tr>\n",
       "    <tr>\n",
       "      <th>9</th>\n",
       "      <td>Mammal</td>\n",
       "      <td>Canis rufus</td>\n",
       "      <td>Red Wolf</td>\n",
       "      <td>Endangered</td>\n",
       "    </tr>\n",
       "  </tbody>\n",
       "</table>\n",
       "</div>"
      ],
      "text/plain": [
       "  category                scientific_name  \\\n",
       "0   Mammal  Clethrionomys gapperi gapperi   \n",
       "1   Mammal                      Bos bison   \n",
       "2   Mammal                     Bos taurus   \n",
       "3   Mammal                     Ovis aries   \n",
       "4   Mammal                 Cervus elaphus   \n",
       "5   Mammal         Odocoileus virginianus   \n",
       "6   Mammal                     Sus scrofa   \n",
       "7   Mammal                  Canis latrans   \n",
       "8   Mammal                    Canis lupus   \n",
       "9   Mammal                    Canis rufus   \n",
       "\n",
       "                                        common_names conservation_status  \n",
       "0                           Gapper's Red-Backed Vole                 NaN  \n",
       "1                              American Bison, Bison                 NaN  \n",
       "2  Aurochs, Aurochs, Domestic Cattle (Feral), Dom...                 NaN  \n",
       "3  Domestic Sheep, Mouflon, Red Sheep, Sheep (Feral)                 NaN  \n",
       "4                                      Wapiti Or Elk                 NaN  \n",
       "5                                  White-Tailed Deer                 NaN  \n",
       "6                                Feral Hog, Wild Pig                 NaN  \n",
       "7                                             Coyote  Species of Concern  \n",
       "8                                          Gray Wolf          Endangered  \n",
       "9                                           Red Wolf          Endangered  "
      ]
     },
     "execution_count": 116,
     "metadata": {},
     "output_type": "execute_result"
    }
   ],
   "source": [
    "#Species\n",
    "species = pd.read_csv('species_info.csv', encoding='utf-8')\n",
    "\n",
    "species.head(10)"
   ]
  },
  {
   "cell_type": "markdown",
   "metadata": {},
   "source": [
    "## What does the data look like?"
   ]
  },
  {
   "cell_type": "code",
   "execution_count": 117,
   "metadata": {},
   "outputs": [
    {
     "name": "stdout",
     "output_type": "stream",
     "text": [
      "observations.csv:\n",
      "Columns: 3\n",
      "Rows: 23296\n",
      "\n",
      "\n",
      "species_info.csv:\n",
      "Columns: 4\n",
      "Rows: 5824\n"
     ]
    }
   ],
   "source": [
    "#shape of the data\n",
    "print(\"observations.csv:\")\n",
    "print(\"Columns: \" + str(observations.shape[1]))\n",
    "print(\"Rows: \" + str(observations.shape[0]))\n",
    "print(\"\\n\")\n",
    "\n",
    "print(\"species_info.csv:\")\n",
    "print(\"Columns: \" + str(species.shape[1]))\n",
    "print(\"Rows: \" + str(species.shape[0]))\n"
   ]
  },
  {
   "cell_type": "code",
   "execution_count": 118,
   "metadata": {},
   "outputs": [
    {
     "name": "stdout",
     "output_type": "stream",
     "text": [
      "Unique species count: 5541\n",
      "Number of parks: 4\n",
      "Parks: \n",
      "1. Great Smoky Mountains National Park\n",
      "2. Yosemite National Park\n",
      "3. Bryce National Park\n",
      "4. Yellowstone National Park\n"
     ]
    }
   ],
   "source": [
    "unique_species = observations.scientific_name.nunique()\n",
    "print(\"Unique species count: \" + str(unique_species))\n",
    "\n",
    "unique_parks = observations.park_name.nunique()\n",
    "print(\"Number of parks: \" + str(unique_parks))\n",
    "print(\"Parks: \")\n",
    "list=1\n",
    "for i in observations.park_name.unique():\n",
    "    print(str(list) + \". \" + i)\n",
    "    list += 1\n",
    "\n"
   ]
  },
  {
   "cell_type": "code",
   "execution_count": 119,
   "metadata": {
    "scrolled": true
   },
   "outputs": [
    {
     "name": "stdout",
     "output_type": "stream",
     "text": [
      "Unique Categories: 7\n",
      "Categories: \n",
      "1. Mammal\n",
      "2. Bird\n",
      "3. Reptile\n",
      "4. Amphibian\n",
      "5. Fish\n",
      "6. Vascular Plant\n",
      "7. Nonvascular Plant\n"
     ]
    }
   ],
   "source": [
    "#categories of species:\n",
    "unique_category = species.category.nunique()\n",
    "print(\"Unique Categories: \" + str(unique_category))\n",
    "print(\"Categories: \")\n",
    "list=1\n",
    "for i in species.category.unique():\n",
    "    print(str(list) + \". \" + i)\n",
    "    list += 1"
   ]
  },
  {
   "cell_type": "code",
   "execution_count": 120,
   "metadata": {},
   "outputs": [
    {
     "data": {
      "image/png": "[encoded data removed]",
      "text/plain": [
       "<Figure size 640x480 with 1 Axes>"
      ]
     },
     "metadata": {},
     "output_type": "display_data"
    },
    {
     "data": {
      "text/plain": [
       "<Figure size 640x480 with 0 Axes>"
      ]
     },
     "metadata": {},
     "output_type": "display_data"
    }
   ],
   "source": [
    "#Graph of num species per category\n",
    "ax = plt.subplot()\n",
    "sns.countplot(x=species.category, data=species, order=['Vascular Plant','Bird','Nonvascular Plant','Mammal',\n",
    "                                                       'Fish','Amphibian','Reptile'])\n",
    "plt.xticks(rotation=50)\n",
    "ax.bar_label(ax.containers[0])\n",
    "plt.ylabel(\"Count\")\n",
    "plt.xlabel(\"Species Category\")\n",
    "plt.title(\"Number of Species per Category\")\n",
    "plt.yscale('log')\n",
    "\n",
    "\n",
    "plt.show()\n",
    "plt.clf()"
   ]
  },
  {
   "cell_type": "markdown",
   "metadata": {},
   "source": [
    "Lets have a look at how many species fall under each category:"
   ]
  },
  {
   "cell_type": "code",
   "execution_count": 121,
   "metadata": {
    "scrolled": true
   },
   "outputs": [
    {
     "data": {
      "text/plain": [
       "category\n",
       "Amphibian              80\n",
       "Bird                  521\n",
       "Fish                  127\n",
       "Mammal                214\n",
       "Nonvascular Plant     333\n",
       "Reptile                79\n",
       "Vascular Plant       4470\n",
       "dtype: int64"
      ]
     },
     "execution_count": 121,
     "metadata": {},
     "output_type": "execute_result"
    }
   ],
   "source": [
    "species.groupby(\"category\").size()\n"
   ]
  },
  {
   "cell_type": "code",
   "execution_count": 122,
   "metadata": {},
   "outputs": [
    {
     "name": "stdout",
     "output_type": "stream",
     "text": [
      "              category    scientific_name        common_names  \\\n",
      "count             5824               5824                5824   \n",
      "unique               7               5541                5504   \n",
      "top     Vascular Plant  Castor canadensis  Brachythecium Moss   \n",
      "freq              4470                  3                   7   \n",
      "\n",
      "       conservation_status  \n",
      "count                  191  \n",
      "unique                   4  \n",
      "top     Species of Concern  \n",
      "freq                   161  \n"
     ]
    }
   ],
   "source": [
    "#summary statistics for species\n",
    "print(species.describe())"
   ]
  },
  {
   "cell_type": "code",
   "execution_count": 123,
   "metadata": {},
   "outputs": [
    {
     "name": "stdout",
     "output_type": "stream",
     "text": [
      "       observations\n",
      "count  23296.000000\n",
      "mean     142.287904\n",
      "std       69.890532\n",
      "min        9.000000\n",
      "25%       86.000000\n",
      "50%      124.000000\n",
      "75%      195.000000\n",
      "max      321.000000\n"
     ]
    }
   ],
   "source": [
    "#summary statistics for observations\n",
    "print(observations.describe())"
   ]
  },
  {
   "cell_type": "markdown",
   "metadata": {},
   "source": [
    "## Cleaning the Data"
   ]
  },
  {
   "cell_type": "markdown",
   "metadata": {},
   "source": [
    "##### How much of our data is missing?"
   ]
  },
  {
   "cell_type": "code",
   "execution_count": 124,
   "metadata": {},
   "outputs": [
    {
     "data": {
      "text/plain": [
       "category                  0\n",
       "scientific_name           0\n",
       "common_names              0\n",
       "conservation_status    5633\n",
       "dtype: int64"
      ]
     },
     "execution_count": 124,
     "metadata": {},
     "output_type": "execute_result"
    }
   ],
   "source": [
    "# counts the number of missing values in each column of species\n",
    "species.isna().sum() "
   ]
  },
  {
   "cell_type": "code",
   "execution_count": 125,
   "metadata": {},
   "outputs": [
    {
     "data": {
      "text/plain": [
       "scientific_name    0\n",
       "park_name          0\n",
       "observations       0\n",
       "dtype: int64"
      ]
     },
     "execution_count": 125,
     "metadata": {},
     "output_type": "execute_result"
    }
   ],
   "source": [
    "# counts the number of missing values in each column of observations\n",
    "observations.isna().sum() "
   ]
  },
  {
   "cell_type": "markdown",
   "metadata": {},
   "source": [
    "As we can see, only the conservation_status column in the `species_info.csv` file has missing data.  Since the missing data is in the conservation_status, this may mean the species is not endangered, not protected, or simply no data is available.  We will fill these na's with \"No Protection\"."
   ]
  },
  {
   "cell_type": "code",
   "execution_count": 126,
   "metadata": {},
   "outputs": [
    {
     "data": {
      "text/plain": [
       "category               0\n",
       "scientific_name        0\n",
       "common_names           0\n",
       "conservation_status    0\n",
       "dtype: int64"
      ]
     },
     "execution_count": 126,
     "metadata": {},
     "output_type": "execute_result"
    }
   ],
   "source": [
    "#fill in missing conservation statuses\n",
    "species[\"conservation_status\"] = species[\"conservation_status\"].fillna(\"No Protection\")\n",
    "\n",
    "#confirmation missing data has been filled:\n",
    "species.isna().sum() "
   ]
  },
  {
   "cell_type": "markdown",
   "metadata": {},
   "source": [
    "## Analysis 1: Categories of Species and Protection Status"
   ]
  },
  {
   "cell_type": "code",
   "execution_count": 127,
   "metadata": {},
   "outputs": [
    {
     "data": {
      "image/png": "[encoded data removed]",
      "text/plain": [
       "<Figure size 640x480 with 1 Axes>"
      ]
     },
     "metadata": {},
     "output_type": "display_data"
    },
    {
     "data": {
      "text/plain": [
       "<Figure size 640x480 with 0 Axes>"
      ]
     },
     "metadata": {},
     "output_type": "display_data"
    }
   ],
   "source": [
    "#Graph of num species per status\n",
    "ax = plt.subplot()\n",
    "sns.countplot(x=species.conservation_status, data=species)\n",
    "ax.bar_label(ax.containers[0])\n",
    "plt.xticks(rotation=50)\n",
    "plt.yscale('log')\n",
    "\n",
    "\n",
    "plt.ylabel(\"Count\")\n",
    "plt.xlabel(\"Conservation Status\")\n",
    "plt.title(\"Number of Species per Conservation Status\")\n",
    "\n",
    "plt.show()\n",
    "plt.clf()"
   ]
  },
  {
   "cell_type": "markdown",
   "metadata": {},
   "source": [
    "As we can see, there are significantly more species that fall under the \"No Protection\" category.  While this is great news, it doesnt show any sort of trends.  Lets break this down and see how many of each category of species falls under each conservation status."
   ]
  },
  {
   "cell_type": "code",
   "execution_count": 128,
   "metadata": {},
   "outputs": [
    {
     "data": {
      "text/html": [
       "<div>\n",
       "<style scoped>\n",
       "    .dataframe tbody tr th:only-of-type {\n",
       "        vertical-align: middle;\n",
       "    }\n",
       "\n",
       "    .dataframe tbody tr th {\n",
       "        vertical-align: top;\n",
       "    }\n",
       "\n",
       "    .dataframe thead th {\n",
       "        text-align: right;\n",
       "    }\n",
       "</style>\n",
       "<table border=\"1\" class=\"dataframe\">\n",
       "  <thead>\n",
       "    <tr style=\"text-align: right;\">\n",
       "      <th>category</th>\n",
       "      <th>Amphibian</th>\n",
       "      <th>Bird</th>\n",
       "      <th>Fish</th>\n",
       "      <th>Mammal</th>\n",
       "      <th>Nonvascular Plant</th>\n",
       "      <th>Reptile</th>\n",
       "      <th>Vascular Plant</th>\n",
       "    </tr>\n",
       "    <tr>\n",
       "      <th>conservation_status</th>\n",
       "      <th></th>\n",
       "      <th></th>\n",
       "      <th></th>\n",
       "      <th></th>\n",
       "      <th></th>\n",
       "      <th></th>\n",
       "      <th></th>\n",
       "    </tr>\n",
       "  </thead>\n",
       "  <tbody>\n",
       "    <tr>\n",
       "      <th>Endangered</th>\n",
       "      <td>1.0</td>\n",
       "      <td>4.0</td>\n",
       "      <td>3.0</td>\n",
       "      <td>7.0</td>\n",
       "      <td>0</td>\n",
       "      <td>0</td>\n",
       "      <td>1.0</td>\n",
       "    </tr>\n",
       "    <tr>\n",
       "      <th>In Recovery</th>\n",
       "      <td>0</td>\n",
       "      <td>3.0</td>\n",
       "      <td>0</td>\n",
       "      <td>1.0</td>\n",
       "      <td>0</td>\n",
       "      <td>0</td>\n",
       "      <td>0</td>\n",
       "    </tr>\n",
       "    <tr>\n",
       "      <th>Species of Concern</th>\n",
       "      <td>4.0</td>\n",
       "      <td>72.0</td>\n",
       "      <td>4.0</td>\n",
       "      <td>28.0</td>\n",
       "      <td>5.0</td>\n",
       "      <td>5.0</td>\n",
       "      <td>43.0</td>\n",
       "    </tr>\n",
       "    <tr>\n",
       "      <th>Threatened</th>\n",
       "      <td>2.0</td>\n",
       "      <td>0</td>\n",
       "      <td>4.0</td>\n",
       "      <td>2.0</td>\n",
       "      <td>0</td>\n",
       "      <td>0</td>\n",
       "      <td>2.0</td>\n",
       "    </tr>\n",
       "  </tbody>\n",
       "</table>\n",
       "</div>"
      ],
      "text/plain": [
       "category            Amphibian  Bird Fish  Mammal Nonvascular Plant Reptile  \\\n",
       "conservation_status                                                          \n",
       "Endangered                1.0   4.0  3.0     7.0                 0       0   \n",
       "In Recovery                 0   3.0    0     1.0                 0       0   \n",
       "Species of Concern        4.0  72.0  4.0    28.0               5.0     5.0   \n",
       "Threatened                2.0     0  4.0     2.0                 0       0   \n",
       "\n",
       "category            Vascular Plant  \n",
       "conservation_status                 \n",
       "Endangered                     1.0  \n",
       "In Recovery                      0  \n",
       "Species of Concern            43.0  \n",
       "Threatened                     2.0  "
      ]
     },
     "execution_count": 128,
     "metadata": {},
     "output_type": "execute_result"
    }
   ],
   "source": [
    "speciesStatus = species[species.conservation_status != 'No Protection'].groupby(\n",
    "    [\"conservation_status\",\"category\"])[\"common_names\"].count().unstack()\n",
    "\n",
    "speciesStatus.fillna(\"0\")"
   ]
  },
  {
   "cell_type": "markdown",
   "metadata": {},
   "source": [
    "It looks like most species fall under the \"Species of Concern\" category.  Lets visualize this:"
   ]
  },
  {
   "cell_type": "code",
   "execution_count": 129,
   "metadata": {},
   "outputs": [
    {
     "data": {
      "image/png": "[encoded data removed]",
      "text/plain": [
       "<Figure size 640x480 with 1 Axes>"
      ]
     },
     "metadata": {},
     "output_type": "display_data"
    },
    {
     "data": {
      "text/plain": [
       "<Figure size 640x480 with 0 Axes>"
      ]
     },
     "metadata": {},
     "output_type": "display_data"
    }
   ],
   "source": [
    "speciesStatus.plot(kind='bar', stacked=True)\n",
    "plt.ylabel(\"Number of Species\")\n",
    "plt.xlabel(\"Conservation Status\")\n",
    "plt.title(\"Conservation status per Species\")\n",
    "plt.xticks(rotation = -45)\n",
    "\n",
    "plt.show()\n",
    "plt.clf()"
   ]
  },
  {
   "cell_type": "markdown",
   "metadata": {},
   "source": [
    "Are there certain categories of species that are more likely to be endangered than others?"
   ]
  },
  {
   "cell_type": "code",
   "execution_count": 130,
   "metadata": {},
   "outputs": [
    {
     "data": {
      "text/html": [
       "<div>\n",
       "<style scoped>\n",
       "    .dataframe tbody tr th:only-of-type {\n",
       "        vertical-align: middle;\n",
       "    }\n",
       "\n",
       "    .dataframe tbody tr th {\n",
       "        vertical-align: top;\n",
       "    }\n",
       "\n",
       "    .dataframe thead th {\n",
       "        text-align: right;\n",
       "    }\n",
       "</style>\n",
       "<table border=\"1\" class=\"dataframe\">\n",
       "  <thead>\n",
       "    <tr style=\"text-align: right;\">\n",
       "      <th></th>\n",
       "      <th>Category</th>\n",
       "      <th>Not Protected</th>\n",
       "      <th>Protected</th>\n",
       "      <th>Percent Protected</th>\n",
       "    </tr>\n",
       "  </thead>\n",
       "  <tbody>\n",
       "    <tr>\n",
       "      <th>0</th>\n",
       "      <td>Amphibian</td>\n",
       "      <td>72</td>\n",
       "      <td>7</td>\n",
       "      <td>8.860759</td>\n",
       "    </tr>\n",
       "    <tr>\n",
       "      <th>1</th>\n",
       "      <td>Bird</td>\n",
       "      <td>413</td>\n",
       "      <td>75</td>\n",
       "      <td>15.368852</td>\n",
       "    </tr>\n",
       "    <tr>\n",
       "      <th>2</th>\n",
       "      <td>Fish</td>\n",
       "      <td>115</td>\n",
       "      <td>11</td>\n",
       "      <td>8.730159</td>\n",
       "    </tr>\n",
       "    <tr>\n",
       "      <th>3</th>\n",
       "      <td>Mammal</td>\n",
       "      <td>146</td>\n",
       "      <td>30</td>\n",
       "      <td>17.045455</td>\n",
       "    </tr>\n",
       "    <tr>\n",
       "      <th>4</th>\n",
       "      <td>Nonvascular Plant</td>\n",
       "      <td>328</td>\n",
       "      <td>5</td>\n",
       "      <td>1.501502</td>\n",
       "    </tr>\n",
       "    <tr>\n",
       "      <th>5</th>\n",
       "      <td>Reptile</td>\n",
       "      <td>73</td>\n",
       "      <td>5</td>\n",
       "      <td>6.410256</td>\n",
       "    </tr>\n",
       "    <tr>\n",
       "      <th>6</th>\n",
       "      <td>Vascular Plant</td>\n",
       "      <td>4216</td>\n",
       "      <td>46</td>\n",
       "      <td>1.079305</td>\n",
       "    </tr>\n",
       "  </tbody>\n",
       "</table>\n",
       "</div>"
      ],
      "text/plain": [
       "            Category  Not Protected  Protected  Percent Protected\n",
       "0          Amphibian             72          7           8.860759\n",
       "1               Bird            413         75          15.368852\n",
       "2               Fish            115         11           8.730159\n",
       "3             Mammal            146         30          17.045455\n",
       "4  Nonvascular Plant            328          5           1.501502\n",
       "5            Reptile             73          5           6.410256\n",
       "6     Vascular Plant           4216         46           1.079305"
      ]
     },
     "execution_count": 130,
     "metadata": {},
     "output_type": "execute_result"
    }
   ],
   "source": [
    "#create a new column to track if the species has no protection\n",
    "species['is_protected'] = species.conservation_status != 'No Protection'\n",
    "\n",
    "countStatus = species.groupby([\"category\",\"is_protected\"]).scientific_name.nunique().reset_index().pivot(\n",
    "    index=\"category\", columns=\"is_protected\", values=\"scientific_name\").reset_index()\n",
    "\n",
    "countStatus.columns = [\"Category\", \"Not Protected\", \"Protected\"]\n",
    "\n",
    "countStatus[\"Percent Protected\"] = countStatus[\"Protected\"] / (countStatus[\"Not Protected\"] + countStatus[\"Protected\"]) * 100\n",
    "\n",
    "countStatus"
   ]
  },
  {
   "cell_type": "markdown",
   "metadata": {},
   "source": [
    "From this we can see that Birds and Mammals are proportionally the most protected with Birds having a ~15% protection rate and Mammals have ~17% protection rate. Is this stastically significant?"
   ]
  },
  {
   "cell_type": "code",
   "execution_count": 131,
   "metadata": {},
   "outputs": [
    {
     "data": {
      "text/plain": [
       "Chi2ContingencyResult(statistic=0.1617014831654557, pvalue=0.6875948096661336, dof=1, expected_freq=array([[ 27.8313253, 148.1686747],\n",
       "       [ 77.1686747, 410.8313253]]))"
      ]
     },
     "execution_count": 131,
     "metadata": {},
     "output_type": "execute_result"
    }
   ],
   "source": [
    "from scipy.stats import chi2_contingency\n",
    "\n",
    "cont1 = [[30,146],[75,413]]\n",
    "\n",
    "chi2_contingency(cont1)"
   ]
  },
  {
   "cell_type": "markdown",
   "metadata": {},
   "source": [
    "1. From the Chi Squared Contingency we can get the p value for the comparison of Birds and Mammals.  The standard p-value to test stasticial significance is 0.05.  From the above results the p-value is approximately 0.69 which is more than the 0.05 meaning there is no significant relationship between the protection rate of Birds and Mammals."
   ]
  },
  {
   "cell_type": "markdown",
   "metadata": {},
   "source": [
    "Lets have a look at the p-value from the chi squared contingency to see if there is a statistically significant relationship between Vascular and Nonvascular Plant."
   ]
  },
  {
   "cell_type": "code",
   "execution_count": 132,
   "metadata": {},
   "outputs": [
    {
     "data": {
      "text/plain": [
       "Chi2ContingencyResult(statistic=0.1906912123381206, pvalue=0.6623419491381985, dof=1, expected_freq=array([[4.73040261e+01, 4.21469597e+03],\n",
       "       [3.69597388e+00, 3.29304026e+02]]))"
      ]
     },
     "execution_count": 132,
     "metadata": {},
     "output_type": "execute_result"
    }
   ],
   "source": [
    "cont2 = [[46,4216],[5,328]]\n",
    "\n",
    "chi2_contingency(cont2)"
   ]
  },
  {
   "cell_type": "markdown",
   "metadata": {},
   "source": [
    "2. From this measurements p-value of .66, we can safely say there is no significant relationsihp between the protection rate of Vascular and Nonvascular plants."
   ]
  },
  {
   "cell_type": "markdown",
   "metadata": {},
   "source": [
    "Lets have a look at to species groups who's percent protected are not too close in value like the previously measured comparisons.  Lets have a look at Reptiles and Mammals."
   ]
  },
  {
   "cell_type": "code",
   "execution_count": 133,
   "metadata": {},
   "outputs": [
    {
     "data": {
      "text/plain": [
       "Chi2ContingencyResult(statistic=4.289183096203645, pvalue=0.03835559022969898, dof=1, expected_freq=array([[ 24.2519685, 151.7480315],\n",
       "       [ 10.7480315,  67.2519685]]))"
      ]
     },
     "execution_count": 133,
     "metadata": {},
     "output_type": "execute_result"
    }
   ],
   "source": [
    "cont3 = [[30,146], [5,73]]\n",
    "\n",
    "chi2_contingency(cont3)\n",
    "\n"
   ]
  },
  {
   "cell_type": "markdown",
   "metadata": {},
   "source": [
    "From these results we can see that the p-value is less than 0.05 at 0.04.  This indicates there is a stasticially significant relationship between Reptiles and Mammals and the amount protected."
   ]
  },
  {
   "cell_type": "markdown",
   "metadata": {},
   "source": [
    "## Analysis 2: National Parks and Protection Status"
   ]
  },
  {
   "cell_type": "markdown",
   "metadata": {},
   "source": [
    "Since the protection status and national parks are in separate dataframes, we will need to merge the two dataframes.  In order to do this, we need to decide how values from one table are mapped to the other, in this case both dataframes have the `scientific_name` column so these two dataframes will mapped using this column,"
   ]
  },
  {
   "cell_type": "code",
   "execution_count": 134,
   "metadata": {},
   "outputs": [
    {
     "data": {
      "text/html": [
       "<div>\n",
       "<style scoped>\n",
       "    .dataframe tbody tr th:only-of-type {\n",
       "        vertical-align: middle;\n",
       "    }\n",
       "\n",
       "    .dataframe tbody tr th {\n",
       "        vertical-align: top;\n",
       "    }\n",
       "\n",
       "    .dataframe thead th {\n",
       "        text-align: right;\n",
       "    }\n",
       "</style>\n",
       "<table border=\"1\" class=\"dataframe\">\n",
       "  <thead>\n",
       "    <tr style=\"text-align: right;\">\n",
       "      <th></th>\n",
       "      <th>category</th>\n",
       "      <th>scientific_name</th>\n",
       "      <th>common_names</th>\n",
       "      <th>conservation_status</th>\n",
       "      <th>is_protected</th>\n",
       "      <th>park_name</th>\n",
       "      <th>observations</th>\n",
       "    </tr>\n",
       "  </thead>\n",
       "  <tbody>\n",
       "    <tr>\n",
       "      <th>0</th>\n",
       "      <td>Mammal</td>\n",
       "      <td>Clethrionomys gapperi gapperi</td>\n",
       "      <td>Gapper's Red-Backed Vole</td>\n",
       "      <td>No Protection</td>\n",
       "      <td>False</td>\n",
       "      <td>Bryce National Park</td>\n",
       "      <td>130</td>\n",
       "    </tr>\n",
       "    <tr>\n",
       "      <th>1</th>\n",
       "      <td>Mammal</td>\n",
       "      <td>Clethrionomys gapperi gapperi</td>\n",
       "      <td>Gapper's Red-Backed Vole</td>\n",
       "      <td>No Protection</td>\n",
       "      <td>False</td>\n",
       "      <td>Yellowstone National Park</td>\n",
       "      <td>270</td>\n",
       "    </tr>\n",
       "    <tr>\n",
       "      <th>2</th>\n",
       "      <td>Mammal</td>\n",
       "      <td>Clethrionomys gapperi gapperi</td>\n",
       "      <td>Gapper's Red-Backed Vole</td>\n",
       "      <td>No Protection</td>\n",
       "      <td>False</td>\n",
       "      <td>Great Smoky Mountains National Park</td>\n",
       "      <td>98</td>\n",
       "    </tr>\n",
       "    <tr>\n",
       "      <th>3</th>\n",
       "      <td>Mammal</td>\n",
       "      <td>Clethrionomys gapperi gapperi</td>\n",
       "      <td>Gapper's Red-Backed Vole</td>\n",
       "      <td>No Protection</td>\n",
       "      <td>False</td>\n",
       "      <td>Yosemite National Park</td>\n",
       "      <td>117</td>\n",
       "    </tr>\n",
       "    <tr>\n",
       "      <th>4</th>\n",
       "      <td>Mammal</td>\n",
       "      <td>Bos bison</td>\n",
       "      <td>American Bison, Bison</td>\n",
       "      <td>No Protection</td>\n",
       "      <td>False</td>\n",
       "      <td>Yosemite National Park</td>\n",
       "      <td>128</td>\n",
       "    </tr>\n",
       "  </tbody>\n",
       "</table>\n",
       "</div>"
      ],
      "text/plain": [
       "  category                scientific_name              common_names  \\\n",
       "0   Mammal  Clethrionomys gapperi gapperi  Gapper's Red-Backed Vole   \n",
       "1   Mammal  Clethrionomys gapperi gapperi  Gapper's Red-Backed Vole   \n",
       "2   Mammal  Clethrionomys gapperi gapperi  Gapper's Red-Backed Vole   \n",
       "3   Mammal  Clethrionomys gapperi gapperi  Gapper's Red-Backed Vole   \n",
       "4   Mammal                      Bos bison     American Bison, Bison   \n",
       "\n",
       "  conservation_status  is_protected                            park_name  \\\n",
       "0       No Protection         False                  Bryce National Park   \n",
       "1       No Protection         False            Yellowstone National Park   \n",
       "2       No Protection         False  Great Smoky Mountains National Park   \n",
       "3       No Protection         False               Yosemite National Park   \n",
       "4       No Protection         False               Yosemite National Park   \n",
       "\n",
       "   observations  \n",
       "0           130  \n",
       "1           270  \n",
       "2            98  \n",
       "3           117  \n",
       "4           128  "
      ]
     },
     "execution_count": 134,
     "metadata": {},
     "output_type": "execute_result"
    }
   ],
   "source": [
    "#combining both dataframes\n",
    "combined = species.merge(observations)\n",
    "\n",
    "\n",
    "#dropping duplicate rows\n",
    "combined = combined.drop_duplicates()\n",
    "\n",
    "combined.head()"
   ]
  },
  {
   "cell_type": "code",
   "execution_count": 154,
   "metadata": {},
   "outputs": [
    {
     "data": {
      "text/html": [
       "<div>\n",
       "<style scoped>\n",
       "    .dataframe tbody tr th:only-of-type {\n",
       "        vertical-align: middle;\n",
       "    }\n",
       "\n",
       "    .dataframe tbody tr th {\n",
       "        vertical-align: top;\n",
       "    }\n",
       "\n",
       "    .dataframe thead th {\n",
       "        text-align: right;\n",
       "    }\n",
       "</style>\n",
       "<table border=\"1\" class=\"dataframe\">\n",
       "  <thead>\n",
       "    <tr style=\"text-align: right;\">\n",
       "      <th>is_protected</th>\n",
       "      <th>park_name</th>\n",
       "      <th>False</th>\n",
       "      <th>True</th>\n",
       "    </tr>\n",
       "  </thead>\n",
       "  <tbody>\n",
       "    <tr>\n",
       "      <th>0</th>\n",
       "      <td>Bryce National Park</td>\n",
       "      <td>5363</td>\n",
       "      <td>179</td>\n",
       "    </tr>\n",
       "    <tr>\n",
       "      <th>1</th>\n",
       "      <td>Great Smoky Mountains National Park</td>\n",
       "      <td>5363</td>\n",
       "      <td>179</td>\n",
       "    </tr>\n",
       "    <tr>\n",
       "      <th>2</th>\n",
       "      <td>Yellowstone National Park</td>\n",
       "      <td>5363</td>\n",
       "      <td>179</td>\n",
       "    </tr>\n",
       "    <tr>\n",
       "      <th>3</th>\n",
       "      <td>Yosemite National Park</td>\n",
       "      <td>5363</td>\n",
       "      <td>179</td>\n",
       "    </tr>\n",
       "  </tbody>\n",
       "</table>\n",
       "</div>"
      ],
      "text/plain": [
       "is_protected                            park_name  False  True\n",
       "0                             Bryce National Park   5363   179\n",
       "1             Great Smoky Mountains National Park   5363   179\n",
       "2                       Yellowstone National Park   5363   179\n",
       "3                          Yosemite National Park   5363   179"
      ]
     },
     "execution_count": 154,
     "metadata": {},
     "output_type": "execute_result"
    }
   ],
   "source": [
    "#What are the unique National Parks:\n",
    "# park_list = []\n",
    "# unique_park = combined.park_name.unique()\n",
    "\n",
    "# for i in unique_park:\n",
    "#     park_list.append(i)\n",
    "    \n",
    "\n",
    "# protectedPark = combined.groupby(['park_name']).is_protected.sum().reset_index()\n",
    "\n",
    "\n",
    "protectedPark = combined.groupby([\"park_name\",\"is_protected\"]).scientific_name.nunique().reset_index().pivot(\n",
    "    index=\"park_name\", columns=\"is_protected\", values=\"scientific_name\").reset_index()\n",
    "\n",
    "# countStatus[\"Percent Protected\"] = countStatus[\"Protected\"] / (countStatus[\"Not Protected\"] + countStatus[\"Protected\"]) * 100\n",
    "\n",
    "\n",
    " "
   ]
  },
  {
   "cell_type": "code",
   "execution_count": 145,
   "metadata": {},
   "outputs": [
    {
     "data": {
      "text/plain": [
       "6406"
      ]
     },
     "execution_count": 145,
     "metadata": {},
     "output_type": "execute_result"
    }
   ],
   "source": []
  },
  {
   "cell_type": "code",
   "execution_count": null,
   "metadata": {},
   "outputs": [],
   "source": []
  },
  {
   "cell_type": "code",
   "execution_count": null,
   "metadata": {},
   "outputs": [],
   "source": []
  }
 ],
 "metadata": {
  "kernelspec": {
   "display_name": "Python 3 (ipykernel)",
   "language": "python",
   "name": "python3"
  },
  "language_info": {
   "codemirror_mode": {
    "name": "ipython",
    "version": 3
   },
   "file_extension": ".py",
   "mimetype": "text/x-python",
   "name": "python",
   "nbconvert_exporter": "python",
   "pygments_lexer": "ipython3",
   "version": "3.11.4"
  }
 },
 "nbformat": 4,
 "nbformat_minor": 4
}
